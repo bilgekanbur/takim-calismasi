{
 "cells": [
  {
   "cell_type": "code",
   "execution_count": 163,
   "id": "eca1f194",
   "metadata": {},
   "outputs": [],
   "source": [
    "import pandas as pd\n",
    "import numpy as np\n",
    "import matplotlib.pyplot as plt\n",
    "import seaborn as sbn\n",
    "import tensorflow as tf"
   ]
  },
  {
   "cell_type": "code",
   "execution_count": 164,
   "id": "649aeb4f",
   "metadata": {},
   "outputs": [],
   "source": [
    "dataframe=pd.read_csv(\"ah_kalbim.csv\")"
   ]
  },
  {
   "cell_type": "code",
   "execution_count": null,
   "id": "9dfe90de",
   "metadata": {},
   "outputs": [],
   "source": [
    "dataframe\n"
   ]
  },
  {
   "cell_type": "code",
   "execution_count": 166,
   "id": "62aeb084",
   "metadata": {},
   "outputs": [
    {
     "data": {
      "text/html": [
       "<div>\n",
       "<style scoped>\n",
       "    .dataframe tbody tr th:only-of-type {\n",
       "        vertical-align: middle;\n",
       "    }\n",
       "\n",
       "    .dataframe tbody tr th {\n",
       "        vertical-align: top;\n",
       "    }\n",
       "\n",
       "    .dataframe thead th {\n",
       "        text-align: right;\n",
       "    }\n",
       "</style>\n",
       "<table border=\"1\" class=\"dataframe\">\n",
       "  <thead>\n",
       "    <tr style=\"text-align: right;\">\n",
       "      <th></th>\n",
       "      <th>yas</th>\n",
       "      <th>cinsiyet</th>\n",
       "      <th>gogus_agrı_tipi</th>\n",
       "      <th>dinlenme_kan_basıncı</th>\n",
       "      <th>Kolesterol</th>\n",
       "      <th>Aclık_Kan_Sekeri</th>\n",
       "      <th>Elektrokardiyografik_Ölcümü</th>\n",
       "      <th>Ulasılan_maks_kalp_hızı</th>\n",
       "      <th>egzersize_baglı_durumu</th>\n",
       "      <th>depresyon_ST</th>\n",
       "      <th>egim</th>\n",
       "      <th>ca</th>\n",
       "      <th>talasemi</th>\n",
       "      <th>amac</th>\n",
       "    </tr>\n",
       "  </thead>\n",
       "  <tbody>\n",
       "    <tr>\n",
       "      <th>0</th>\n",
       "      <td>63</td>\n",
       "      <td>1</td>\n",
       "      <td>3</td>\n",
       "      <td>145</td>\n",
       "      <td>233</td>\n",
       "      <td>1</td>\n",
       "      <td>0</td>\n",
       "      <td>150</td>\n",
       "      <td>0</td>\n",
       "      <td>2.3</td>\n",
       "      <td>0</td>\n",
       "      <td>0</td>\n",
       "      <td>1</td>\n",
       "      <td>1</td>\n",
       "    </tr>\n",
       "    <tr>\n",
       "      <th>1</th>\n",
       "      <td>37</td>\n",
       "      <td>1</td>\n",
       "      <td>2</td>\n",
       "      <td>130</td>\n",
       "      <td>250</td>\n",
       "      <td>0</td>\n",
       "      <td>1</td>\n",
       "      <td>187</td>\n",
       "      <td>0</td>\n",
       "      <td>3.5</td>\n",
       "      <td>0</td>\n",
       "      <td>0</td>\n",
       "      <td>2</td>\n",
       "      <td>1</td>\n",
       "    </tr>\n",
       "    <tr>\n",
       "      <th>2</th>\n",
       "      <td>41</td>\n",
       "      <td>0</td>\n",
       "      <td>1</td>\n",
       "      <td>130</td>\n",
       "      <td>204</td>\n",
       "      <td>0</td>\n",
       "      <td>0</td>\n",
       "      <td>172</td>\n",
       "      <td>0</td>\n",
       "      <td>1.4</td>\n",
       "      <td>2</td>\n",
       "      <td>0</td>\n",
       "      <td>2</td>\n",
       "      <td>1</td>\n",
       "    </tr>\n",
       "    <tr>\n",
       "      <th>3</th>\n",
       "      <td>56</td>\n",
       "      <td>1</td>\n",
       "      <td>1</td>\n",
       "      <td>120</td>\n",
       "      <td>236</td>\n",
       "      <td>0</td>\n",
       "      <td>1</td>\n",
       "      <td>178</td>\n",
       "      <td>0</td>\n",
       "      <td>0.8</td>\n",
       "      <td>2</td>\n",
       "      <td>0</td>\n",
       "      <td>2</td>\n",
       "      <td>1</td>\n",
       "    </tr>\n",
       "    <tr>\n",
       "      <th>4</th>\n",
       "      <td>57</td>\n",
       "      <td>0</td>\n",
       "      <td>0</td>\n",
       "      <td>120</td>\n",
       "      <td>354</td>\n",
       "      <td>0</td>\n",
       "      <td>1</td>\n",
       "      <td>163</td>\n",
       "      <td>1</td>\n",
       "      <td>0.6</td>\n",
       "      <td>2</td>\n",
       "      <td>0</td>\n",
       "      <td>2</td>\n",
       "      <td>1</td>\n",
       "    </tr>\n",
       "  </tbody>\n",
       "</table>\n",
       "</div>"
      ],
      "text/plain": [
       "   yas  cinsiyet  gogus_agrı_tipi  dinlenme_kan_basıncı  Kolesterol  \\\n",
       "0   63         1                3                   145         233   \n",
       "1   37         1                2                   130         250   \n",
       "2   41         0                1                   130         204   \n",
       "3   56         1                1                   120         236   \n",
       "4   57         0                0                   120         354   \n",
       "\n",
       "   Aclık_Kan_Sekeri  Elektrokardiyografik_Ölcümü  Ulasılan_maks_kalp_hızı  \\\n",
       "0                 1                            0                      150   \n",
       "1                 0                            1                      187   \n",
       "2                 0                            0                      172   \n",
       "3                 0                            1                      178   \n",
       "4                 0                            1                      163   \n",
       "\n",
       "   egzersize_baglı_durumu  depresyon_ST  egim  ca  talasemi  amac  \n",
       "0                       0           2.3     0   0         1     1  \n",
       "1                       0           3.5     0   0         2     1  \n",
       "2                       0           1.4     2   0         2     1  \n",
       "3                       0           0.8     2   0         2     1  \n",
       "4                       1           0.6     2   0         2     1  "
      ]
     },
     "execution_count": 166,
     "metadata": {},
     "output_type": "execute_result"
    }
   ],
   "source": [
    "dataframe.head()\n"
   ]
  },
  {
   "cell_type": "code",
   "execution_count": 167,
   "id": "0002293a",
   "metadata": {},
   "outputs": [
    {
     "data": {
      "text/plain": [
       "yas                            0\n",
       "cinsiyet                       0\n",
       "gogus_agrı_tipi                0\n",
       "dinlenme_kan_basıncı           0\n",
       "Kolesterol                     0\n",
       "Aclık_Kan_Sekeri               0\n",
       "Elektrokardiyografik_Ölcümü    0\n",
       "Ulasılan_maks_kalp_hızı        0\n",
       "egzersize_baglı_durumu         0\n",
       "depresyon_ST                   0\n",
       "egim                           0\n",
       "ca                             0\n",
       "talasemi                       0\n",
       "amac                           0\n",
       "dtype: int64"
      ]
     },
     "execution_count": 167,
     "metadata": {},
     "output_type": "execute_result"
    }
   ],
   "source": [
    "dataframe.isnull().sum()\n"
   ]
  },
  {
   "cell_type": "code",
   "execution_count": 168,
   "id": "47a01afc",
   "metadata": {},
   "outputs": [
    {
     "name": "stderr",
     "output_type": "stream",
     "text": [
      "C:\\Users\\MONSTER\\AppData\\Local\\Temp\\ipykernel_4348\\189444653.py:2: UserWarning: \n",
      "\n",
      "`distplot` is a deprecated function and will be removed in seaborn v0.14.0.\n",
      "\n",
      "Please adapt your code to use either `displot` (a figure-level function with\n",
      "similar flexibility) or `histplot` (an axes-level function for histograms).\n",
      "\n",
      "For a guide to updating your code to use the new functions, please see\n",
      "https://gist.github.com/mwaskom/de44147ed2974457ad6372750bbe5751\n",
      "\n",
      "  sbn.distplot(dataframe[\"gogus_agrı_tipi\"])\n"
     ]
    },
    {
     "data": {
      "text/plain": [
       "<Axes: xlabel='gogus_agrı_tipi', ylabel='Density'>"
      ]
     },
     "execution_count": 168,
     "metadata": {},
     "output_type": "execute_result"
    },
    {
     "data": {
      "image/png": "[encoded data removed]",
      "text/plain": [
       "<Figure size 500x500 with 1 Axes>"
      ]
     },
     "metadata": {},
     "output_type": "display_data"
    }
   ],
   "source": [
    "plt.figure(figsize=(5,5))\n",
    "sbn.distplot(dataframe[\"gogus_agrı_tipi\"])"
   ]
  },
  {
   "cell_type": "code",
   "execution_count": 169,
   "id": "b3981bd3",
   "metadata": {},
   "outputs": [
    {
     "data": {
      "text/plain": [
       "<Axes: xlabel='gogus_agrı_tipi', ylabel='count'>"
      ]
     },
     "execution_count": 169,
     "metadata": {},
     "output_type": "execute_result"
    },
    {
     "data": {
      "image/png": "[encoded data removed]",
      "text/plain": [
       "<Figure size 640x480 with 1 Axes>"
      ]
     },
     "metadata": {},
     "output_type": "display_data"
    }
   ],
   "source": [
    "sbn.countplot(x=dataframe[\"gogus_agrı_tipi\"])\n"
   ]
  },
  {
   "cell_type": "code",
   "execution_count": 170,
   "id": "6877f084",
   "metadata": {},
   "outputs": [
    {
     "data": {
      "text/plain": [
       "<Axes: xlabel='cinsiyet', ylabel='count'>"
      ]
     },
     "execution_count": 170,
     "metadata": {},
     "output_type": "execute_result"
    },
    {
     "data": {
      "image/png": "[encoded data removed]",
      "text/plain": [
       "<Figure size 640x480 with 1 Axes>"
      ]
     },
     "metadata": {},
     "output_type": "display_data"
    }
   ],
   "source": [
    "sbn.countplot(x=dataframe[\"cinsiyet\"])\n"
   ]
  },
  {
   "cell_type": "code",
   "execution_count": 171,
   "id": "1727f2aa",
   "metadata": {},
   "outputs": [
    {
     "data": {
      "text/plain": [
       "<Axes: xlabel='Aclık_Kan_Sekeri', ylabel='count'>"
      ]
     },
     "execution_count": 171,
     "metadata": {},
     "output_type": "execute_result"
    },
    {
     "data": {
      "image/png": "[encoded data removed]",
      "text/plain": [
       "<Figure size 640x480 with 1 Axes>"
      ]
     },
     "metadata": {},
     "output_type": "display_data"
    }
   ],
   "source": [
    "sbn.countplot(x=dataframe[\"Aclık_Kan_Sekeri\"])\n"
   ]
  },
  {
   "cell_type": "code",
   "execution_count": 172,
   "id": "eb943a02",
   "metadata": {},
   "outputs": [
    {
     "data": {
      "text/plain": [
       "<Axes: xlabel='Elektrokardiyografik_Ölcümü', ylabel='count'>"
      ]
     },
     "execution_count": 172,
     "metadata": {},
     "output_type": "execute_result"
    },
    {
     "data": {
      "image/png": "[encoded data removed]",
      "text/plain": [
       "<Figure size 640x480 with 1 Axes>"
      ]
     },
     "metadata": {},
     "output_type": "display_data"
    }
   ],
   "source": [
    "sbn.countplot(x=dataframe[\"Elektrokardiyografik_Ölcümü\"])\n"
   ]
  },
  {
   "cell_type": "code",
   "execution_count": 173,
   "id": "e3c5d81d",
   "metadata": {},
   "outputs": [
    {
     "data": {
      "text/plain": [
       "<Axes: xlabel='egzersize_baglı_durumu', ylabel='count'>"
      ]
     },
     "execution_count": 173,
     "metadata": {},
     "output_type": "execute_result"
    },
    {
     "data": {
      "image/png": "[encoded data removed]",
      "text/plain": [
       "<Figure size 640x480 with 1 Axes>"
      ]
     },
     "metadata": {},
     "output_type": "display_data"
    }
   ],
   "source": [
    "sbn.countplot(x=dataframe[\"egzersize_baglı_durumu\"])"
   ]
  },
  {
   "cell_type": "code",
   "execution_count": 174,
   "id": "2e318ffc",
   "metadata": {},
   "outputs": [
    {
     "data": {
      "text/plain": [
       "<Axes: xlabel='egim', ylabel='count'>"
      ]
     },
     "execution_count": 174,
     "metadata": {},
     "output_type": "execute_result"
    },
    {
     "data": {
      "image/png": "[encoded data removed]",
      "text/plain": [
       "<Figure size 640x480 with 1 Axes>"
      ]
     },
     "metadata": {},
     "output_type": "display_data"
    }
   ],
   "source": [
    "sbn.countplot(x=dataframe[\"egim\"])\n"
   ]
  },
  {
   "cell_type": "code",
   "execution_count": 175,
   "id": "7cfb7a22",
   "metadata": {},
   "outputs": [
    {
     "data": {
      "text/plain": [
       "<Axes: xlabel='talasemi', ylabel='count'>"
      ]
     },
     "execution_count": 175,
     "metadata": {},
     "output_type": "execute_result"
    },
    {
     "data": {
      "image/png": "[encoded data removed]",
      "text/plain": [
       "<Figure size 640x480 with 1 Axes>"
      ]
     },
     "metadata": {},
     "output_type": "display_data"
    }
   ],
   "source": [
    "sbn.countplot(x=dataframe[\"talasemi\"])\n"
   ]
  },
  {
   "cell_type": "code",
   "execution_count": 176,
   "id": "38795d77",
   "metadata": {},
   "outputs": [
    {
     "data": {
      "text/plain": [
       "<Axes: xlabel='ca', ylabel='count'>"
      ]
     },
     "execution_count": 176,
     "metadata": {},
     "output_type": "execute_result"
    },
    {
     "data": {
      "image/png": "[encoded data removed]",
      "text/plain": [
       "<Figure size 640x480 with 1 Axes>"
      ]
     },
     "metadata": {},
     "output_type": "display_data"
    }
   ],
   "source": [
    "sbn.countplot(x=dataframe[\"ca\"])\n"
   ]
  },
  {
   "cell_type": "code",
   "execution_count": 177,
   "id": "551f24b0",
   "metadata": {},
   "outputs": [
    {
     "data": {
      "text/plain": [
       "<Axes: xlabel='amac', ylabel='count'>"
      ]
     },
     "execution_count": 177,
     "metadata": {},
     "output_type": "execute_result"
    },
    {
     "data": {
      "image/png": "[encoded data removed]",
      "text/plain": [
       "<Figure size 640x480 with 1 Axes>"
      ]
     },
     "metadata": {},
     "output_type": "display_data"
    }
   ],
   "source": [
    "sbn.countplot(x=dataframe[\"amac\"])\n"
   ]
  },
  {
   "cell_type": "code",
   "execution_count": 178,
   "id": "1c7a35fb",
   "metadata": {},
   "outputs": [
    {
     "data": {
      "text/html": [
       "<div>\n",
       "<style scoped>\n",
       "    .dataframe tbody tr th:only-of-type {\n",
       "        vertical-align: middle;\n",
       "    }\n",
       "\n",
       "    .dataframe tbody tr th {\n",
       "        vertical-align: top;\n",
       "    }\n",
       "\n",
       "    .dataframe thead th {\n",
       "        text-align: right;\n",
       "    }\n",
       "</style>\n",
       "<table border=\"1\" class=\"dataframe\">\n",
       "  <thead>\n",
       "    <tr style=\"text-align: right;\">\n",
       "      <th></th>\n",
       "      <th>yas</th>\n",
       "      <th>cinsiyet</th>\n",
       "      <th>gogus_agrı_tipi</th>\n",
       "      <th>dinlenme_kan_basıncı</th>\n",
       "      <th>Kolesterol</th>\n",
       "      <th>Aclık_Kan_Sekeri</th>\n",
       "      <th>Elektrokardiyografik_Ölcümü</th>\n",
       "      <th>Ulasılan_maks_kalp_hızı</th>\n",
       "      <th>egzersize_baglı_durumu</th>\n",
       "      <th>depresyon_ST</th>\n",
       "      <th>egim</th>\n",
       "      <th>ca</th>\n",
       "      <th>talasemi</th>\n",
       "      <th>amac</th>\n",
       "    </tr>\n",
       "  </thead>\n",
       "  <tbody>\n",
       "    <tr>\n",
       "      <th>yas</th>\n",
       "      <td>1.000000</td>\n",
       "      <td>-0.098447</td>\n",
       "      <td>-0.068653</td>\n",
       "      <td>0.279351</td>\n",
       "      <td>0.213678</td>\n",
       "      <td>0.121308</td>\n",
       "      <td>-0.116211</td>\n",
       "      <td>-0.398522</td>\n",
       "      <td>0.096801</td>\n",
       "      <td>0.210013</td>\n",
       "      <td>-0.168814</td>\n",
       "      <td>0.276326</td>\n",
       "      <td>0.068001</td>\n",
       "      <td>-0.225439</td>\n",
       "    </tr>\n",
       "    <tr>\n",
       "      <th>cinsiyet</th>\n",
       "      <td>-0.098447</td>\n",
       "      <td>1.000000</td>\n",
       "      <td>-0.049353</td>\n",
       "      <td>-0.056769</td>\n",
       "      <td>-0.197912</td>\n",
       "      <td>0.045032</td>\n",
       "      <td>-0.058196</td>\n",
       "      <td>-0.044020</td>\n",
       "      <td>0.141664</td>\n",
       "      <td>0.096093</td>\n",
       "      <td>-0.030711</td>\n",
       "      <td>0.118261</td>\n",
       "      <td>0.210041</td>\n",
       "      <td>-0.280937</td>\n",
       "    </tr>\n",
       "    <tr>\n",
       "      <th>gogus_agrı_tipi</th>\n",
       "      <td>-0.068653</td>\n",
       "      <td>-0.049353</td>\n",
       "      <td>1.000000</td>\n",
       "      <td>0.047608</td>\n",
       "      <td>-0.076904</td>\n",
       "      <td>0.094444</td>\n",
       "      <td>0.044421</td>\n",
       "      <td>0.295762</td>\n",
       "      <td>-0.394280</td>\n",
       "      <td>-0.149230</td>\n",
       "      <td>0.119717</td>\n",
       "      <td>-0.181053</td>\n",
       "      <td>-0.161736</td>\n",
       "      <td>0.433798</td>\n",
       "    </tr>\n",
       "    <tr>\n",
       "      <th>dinlenme_kan_basıncı</th>\n",
       "      <td>0.279351</td>\n",
       "      <td>-0.056769</td>\n",
       "      <td>0.047608</td>\n",
       "      <td>1.000000</td>\n",
       "      <td>0.123174</td>\n",
       "      <td>0.177531</td>\n",
       "      <td>-0.114103</td>\n",
       "      <td>-0.046698</td>\n",
       "      <td>0.067616</td>\n",
       "      <td>0.193216</td>\n",
       "      <td>-0.121475</td>\n",
       "      <td>0.101389</td>\n",
       "      <td>0.062210</td>\n",
       "      <td>-0.144931</td>\n",
       "    </tr>\n",
       "    <tr>\n",
       "      <th>Kolesterol</th>\n",
       "      <td>0.213678</td>\n",
       "      <td>-0.197912</td>\n",
       "      <td>-0.076904</td>\n",
       "      <td>0.123174</td>\n",
       "      <td>1.000000</td>\n",
       "      <td>0.013294</td>\n",
       "      <td>-0.151040</td>\n",
       "      <td>-0.009940</td>\n",
       "      <td>0.067023</td>\n",
       "      <td>0.053952</td>\n",
       "      <td>-0.004038</td>\n",
       "      <td>0.070511</td>\n",
       "      <td>0.098803</td>\n",
       "      <td>-0.085239</td>\n",
       "    </tr>\n",
       "    <tr>\n",
       "      <th>Aclık_Kan_Sekeri</th>\n",
       "      <td>0.121308</td>\n",
       "      <td>0.045032</td>\n",
       "      <td>0.094444</td>\n",
       "      <td>0.177531</td>\n",
       "      <td>0.013294</td>\n",
       "      <td>1.000000</td>\n",
       "      <td>-0.084189</td>\n",
       "      <td>-0.008567</td>\n",
       "      <td>0.025665</td>\n",
       "      <td>0.005747</td>\n",
       "      <td>-0.059894</td>\n",
       "      <td>0.137979</td>\n",
       "      <td>-0.032019</td>\n",
       "      <td>-0.028046</td>\n",
       "    </tr>\n",
       "    <tr>\n",
       "      <th>Elektrokardiyografik_Ölcümü</th>\n",
       "      <td>-0.116211</td>\n",
       "      <td>-0.058196</td>\n",
       "      <td>0.044421</td>\n",
       "      <td>-0.114103</td>\n",
       "      <td>-0.151040</td>\n",
       "      <td>-0.084189</td>\n",
       "      <td>1.000000</td>\n",
       "      <td>0.044123</td>\n",
       "      <td>-0.070733</td>\n",
       "      <td>-0.058770</td>\n",
       "      <td>0.093045</td>\n",
       "      <td>-0.072042</td>\n",
       "      <td>-0.011981</td>\n",
       "      <td>0.137230</td>\n",
       "    </tr>\n",
       "    <tr>\n",
       "      <th>Ulasılan_maks_kalp_hızı</th>\n",
       "      <td>-0.398522</td>\n",
       "      <td>-0.044020</td>\n",
       "      <td>0.295762</td>\n",
       "      <td>-0.046698</td>\n",
       "      <td>-0.009940</td>\n",
       "      <td>-0.008567</td>\n",
       "      <td>0.044123</td>\n",
       "      <td>1.000000</td>\n",
       "      <td>-0.378812</td>\n",
       "      <td>-0.344187</td>\n",
       "      <td>0.386784</td>\n",
       "      <td>-0.213177</td>\n",
       "      <td>-0.096439</td>\n",
       "      <td>0.421741</td>\n",
       "    </tr>\n",
       "    <tr>\n",
       "      <th>egzersize_baglı_durumu</th>\n",
       "      <td>0.096801</td>\n",
       "      <td>0.141664</td>\n",
       "      <td>-0.394280</td>\n",
       "      <td>0.067616</td>\n",
       "      <td>0.067023</td>\n",
       "      <td>0.025665</td>\n",
       "      <td>-0.070733</td>\n",
       "      <td>-0.378812</td>\n",
       "      <td>1.000000</td>\n",
       "      <td>0.288223</td>\n",
       "      <td>-0.257748</td>\n",
       "      <td>0.115739</td>\n",
       "      <td>0.206754</td>\n",
       "      <td>-0.436757</td>\n",
       "    </tr>\n",
       "    <tr>\n",
       "      <th>depresyon_ST</th>\n",
       "      <td>0.210013</td>\n",
       "      <td>0.096093</td>\n",
       "      <td>-0.149230</td>\n",
       "      <td>0.193216</td>\n",
       "      <td>0.053952</td>\n",
       "      <td>0.005747</td>\n",
       "      <td>-0.058770</td>\n",
       "      <td>-0.344187</td>\n",
       "      <td>0.288223</td>\n",
       "      <td>1.000000</td>\n",
       "      <td>-0.577537</td>\n",
       "      <td>0.222682</td>\n",
       "      <td>0.210244</td>\n",
       "      <td>-0.430696</td>\n",
       "    </tr>\n",
       "    <tr>\n",
       "      <th>egim</th>\n",
       "      <td>-0.168814</td>\n",
       "      <td>-0.030711</td>\n",
       "      <td>0.119717</td>\n",
       "      <td>-0.121475</td>\n",
       "      <td>-0.004038</td>\n",
       "      <td>-0.059894</td>\n",
       "      <td>0.093045</td>\n",
       "      <td>0.386784</td>\n",
       "      <td>-0.257748</td>\n",
       "      <td>-0.577537</td>\n",
       "      <td>1.000000</td>\n",
       "      <td>-0.080155</td>\n",
       "      <td>-0.104764</td>\n",
       "      <td>0.345877</td>\n",
       "    </tr>\n",
       "    <tr>\n",
       "      <th>ca</th>\n",
       "      <td>0.276326</td>\n",
       "      <td>0.118261</td>\n",
       "      <td>-0.181053</td>\n",
       "      <td>0.101389</td>\n",
       "      <td>0.070511</td>\n",
       "      <td>0.137979</td>\n",
       "      <td>-0.072042</td>\n",
       "      <td>-0.213177</td>\n",
       "      <td>0.115739</td>\n",
       "      <td>0.222682</td>\n",
       "      <td>-0.080155</td>\n",
       "      <td>1.000000</td>\n",
       "      <td>0.151832</td>\n",
       "      <td>-0.391724</td>\n",
       "    </tr>\n",
       "    <tr>\n",
       "      <th>talasemi</th>\n",
       "      <td>0.068001</td>\n",
       "      <td>0.210041</td>\n",
       "      <td>-0.161736</td>\n",
       "      <td>0.062210</td>\n",
       "      <td>0.098803</td>\n",
       "      <td>-0.032019</td>\n",
       "      <td>-0.011981</td>\n",
       "      <td>-0.096439</td>\n",
       "      <td>0.206754</td>\n",
       "      <td>0.210244</td>\n",
       "      <td>-0.104764</td>\n",
       "      <td>0.151832</td>\n",
       "      <td>1.000000</td>\n",
       "      <td>-0.344029</td>\n",
       "    </tr>\n",
       "    <tr>\n",
       "      <th>amac</th>\n",
       "      <td>-0.225439</td>\n",
       "      <td>-0.280937</td>\n",
       "      <td>0.433798</td>\n",
       "      <td>-0.144931</td>\n",
       "      <td>-0.085239</td>\n",
       "      <td>-0.028046</td>\n",
       "      <td>0.137230</td>\n",
       "      <td>0.421741</td>\n",
       "      <td>-0.436757</td>\n",
       "      <td>-0.430696</td>\n",
       "      <td>0.345877</td>\n",
       "      <td>-0.391724</td>\n",
       "      <td>-0.344029</td>\n",
       "      <td>1.000000</td>\n",
       "    </tr>\n",
       "  </tbody>\n",
       "</table>\n",
       "</div>"
      ],
      "text/plain": [
       "                                  yas  cinsiyet  gogus_agrı_tipi  \\\n",
       "yas                          1.000000 -0.098447        -0.068653   \n",
       "cinsiyet                    -0.098447  1.000000        -0.049353   \n",
       "gogus_agrı_tipi             -0.068653 -0.049353         1.000000   \n",
       "dinlenme_kan_basıncı         0.279351 -0.056769         0.047608   \n",
       "Kolesterol                   0.213678 -0.197912        -0.076904   \n",
       "Aclık_Kan_Sekeri             0.121308  0.045032         0.094444   \n",
       "Elektrokardiyografik_Ölcümü -0.116211 -0.058196         0.044421   \n",
       "Ulasılan_maks_kalp_hızı     -0.398522 -0.044020         0.295762   \n",
       "egzersize_baglı_durumu       0.096801  0.141664        -0.394280   \n",
       "depresyon_ST                 0.210013  0.096093        -0.149230   \n",
       "egim                        -0.168814 -0.030711         0.119717   \n",
       "ca                           0.276326  0.118261        -0.181053   \n",
       "talasemi                     0.068001  0.210041        -0.161736   \n",
       "amac                        -0.225439 -0.280937         0.433798   \n",
       "\n",
       "                             dinlenme_kan_basıncı  Kolesterol  \\\n",
       "yas                                      0.279351    0.213678   \n",
       "cinsiyet                                -0.056769   -0.197912   \n",
       "gogus_agrı_tipi                          0.047608   -0.076904   \n",
       "dinlenme_kan_basıncı                     1.000000    0.123174   \n",
       "Kolesterol                               0.123174    1.000000   \n",
       "Aclık_Kan_Sekeri                         0.177531    0.013294   \n",
       "Elektrokardiyografik_Ölcümü             -0.114103   -0.151040   \n",
       "Ulasılan_maks_kalp_hızı                 -0.046698   -0.009940   \n",
       "egzersize_baglı_durumu                   0.067616    0.067023   \n",
       "depresyon_ST                             0.193216    0.053952   \n",
       "egim                                    -0.121475   -0.004038   \n",
       "ca                                       0.101389    0.070511   \n",
       "talasemi                                 0.062210    0.098803   \n",
       "amac                                    -0.144931   -0.085239   \n",
       "\n",
       "                             Aclık_Kan_Sekeri  Elektrokardiyografik_Ölcümü  \\\n",
       "yas                                  0.121308                    -0.116211   \n",
       "cinsiyet                             0.045032                    -0.058196   \n",
       "gogus_agrı_tipi                      0.094444                     0.044421   \n",
       "dinlenme_kan_basıncı                 0.177531                    -0.114103   \n",
       "Kolesterol                           0.013294                    -0.151040   \n",
       "Aclık_Kan_Sekeri                     1.000000                    -0.084189   \n",
       "Elektrokardiyografik_Ölcümü         -0.084189                     1.000000   \n",
       "Ulasılan_maks_kalp_hızı             -0.008567                     0.044123   \n",
       "egzersize_baglı_durumu               0.025665                    -0.070733   \n",
       "depresyon_ST                         0.005747                    -0.058770   \n",
       "egim                                -0.059894                     0.093045   \n",
       "ca                                   0.137979                    -0.072042   \n",
       "talasemi                            -0.032019                    -0.011981   \n",
       "amac                                -0.028046                     0.137230   \n",
       "\n",
       "                             Ulasılan_maks_kalp_hızı  egzersize_baglı_durumu  \\\n",
       "yas                                        -0.398522                0.096801   \n",
       "cinsiyet                                   -0.044020                0.141664   \n",
       "gogus_agrı_tipi                             0.295762               -0.394280   \n",
       "dinlenme_kan_basıncı                       -0.046698                0.067616   \n",
       "Kolesterol                                 -0.009940                0.067023   \n",
       "Aclık_Kan_Sekeri                           -0.008567                0.025665   \n",
       "Elektrokardiyografik_Ölcümü                 0.044123               -0.070733   \n",
       "Ulasılan_maks_kalp_hızı                     1.000000               -0.378812   \n",
       "egzersize_baglı_durumu                     -0.378812                1.000000   \n",
       "depresyon_ST                               -0.344187                0.288223   \n",
       "egim                                        0.386784               -0.257748   \n",
       "ca                                         -0.213177                0.115739   \n",
       "talasemi                                   -0.096439                0.206754   \n",
       "amac                                        0.421741               -0.436757   \n",
       "\n",
       "                             depresyon_ST      egim        ca  talasemi  \\\n",
       "yas                              0.210013 -0.168814  0.276326  0.068001   \n",
       "cinsiyet                         0.096093 -0.030711  0.118261  0.210041   \n",
       "gogus_agrı_tipi                 -0.149230  0.119717 -0.181053 -0.161736   \n",
       "dinlenme_kan_basıncı             0.193216 -0.121475  0.101389  0.062210   \n",
       "Kolesterol                       0.053952 -0.004038  0.070511  0.098803   \n",
       "Aclık_Kan_Sekeri                 0.005747 -0.059894  0.137979 -0.032019   \n",
       "Elektrokardiyografik_Ölcümü     -0.058770  0.093045 -0.072042 -0.011981   \n",
       "Ulasılan_maks_kalp_hızı         -0.344187  0.386784 -0.213177 -0.096439   \n",
       "egzersize_baglı_durumu           0.288223 -0.257748  0.115739  0.206754   \n",
       "depresyon_ST                     1.000000 -0.577537  0.222682  0.210244   \n",
       "egim                            -0.577537  1.000000 -0.080155 -0.104764   \n",
       "ca                               0.222682 -0.080155  1.000000  0.151832   \n",
       "talasemi                         0.210244 -0.104764  0.151832  1.000000   \n",
       "amac                            -0.430696  0.345877 -0.391724 -0.344029   \n",
       "\n",
       "                                 amac  \n",
       "yas                         -0.225439  \n",
       "cinsiyet                    -0.280937  \n",
       "gogus_agrı_tipi              0.433798  \n",
       "dinlenme_kan_basıncı        -0.144931  \n",
       "Kolesterol                  -0.085239  \n",
       "Aclık_Kan_Sekeri            -0.028046  \n",
       "Elektrokardiyografik_Ölcümü  0.137230  \n",
       "Ulasılan_maks_kalp_hızı      0.421741  \n",
       "egzersize_baglı_durumu      -0.436757  \n",
       "depresyon_ST                -0.430696  \n",
       "egim                         0.345877  \n",
       "ca                          -0.391724  \n",
       "talasemi                    -0.344029  \n",
       "amac                         1.000000  "
      ]
     },
     "execution_count": 178,
     "metadata": {},
     "output_type": "execute_result"
    }
   ],
   "source": [
    "\n",
    "dataframe.corr()\n"
   ]
  },
  {
   "cell_type": "code",
   "execution_count": 179,
   "id": "183a52b3",
   "metadata": {},
   "outputs": [
    {
     "data": {
      "text/plain": [
       "egzersize_baglı_durumu        -0.394280\n",
       "ca                            -0.181053\n",
       "talasemi                      -0.161736\n",
       "depresyon_ST                  -0.149230\n",
       "Kolesterol                    -0.076904\n",
       "yas                           -0.068653\n",
       "cinsiyet                      -0.049353\n",
       "Elektrokardiyografik_Ölcümü    0.044421\n",
       "dinlenme_kan_basıncı           0.047608\n",
       "Aclık_Kan_Sekeri               0.094444\n",
       "egim                           0.119717\n",
       "Ulasılan_maks_kalp_hızı        0.295762\n",
       "amac                           0.433798\n",
       "gogus_agrı_tipi                1.000000\n",
       "Name: gogus_agrı_tipi, dtype: float64"
      ]
     },
     "execution_count": 179,
     "metadata": {},
     "output_type": "execute_result"
    }
   ],
   "source": [
    "dataframe.corr()[\"gogus_agrı_tipi\"].sort_values()\n",
    "#ne kadar fazla egzersiz o kadar fazla gögus ağrısı\n"
   ]
  },
  {
   "cell_type": "code",
   "execution_count": 180,
   "id": "012df726",
   "metadata": {},
   "outputs": [
    {
     "data": {
      "text/plain": [
       "<Axes: xlabel='Kolesterol', ylabel='gogus_agrı_tipi'>"
      ]
     },
     "execution_count": 180,
     "metadata": {},
     "output_type": "execute_result"
    },
    {
     "data": {
      "image/png": "[encoded data removed]",
      "text/plain": [
       "<Figure size 640x480 with 1 Axes>"
      ]
     },
     "metadata": {},
     "output_type": "display_data"
    }
   ],
   "source": [
    "sbn.scatterplot(x=\"Kolesterol\",y=\"gogus_agrı_tipi\",data=dataframe)\n"
   ]
  },
  {
   "cell_type": "code",
   "execution_count": 181,
   "id": "9844d80f",
   "metadata": {},
   "outputs": [
    {
     "name": "stderr",
     "output_type": "stream",
     "text": [
      "C:\\Users\\MONSTER\\AppData\\Local\\Temp\\ipykernel_4348\\1736472444.py:2: UserWarning: \n",
      "\n",
      "`distplot` is a deprecated function and will be removed in seaborn v0.14.0.\n",
      "\n",
      "Please adapt your code to use either `displot` (a figure-level function with\n",
      "similar flexibility) or `histplot` (an axes-level function for histograms).\n",
      "\n",
      "For a guide to updating your code to use the new functions, please see\n",
      "https://gist.github.com/mwaskom/de44147ed2974457ad6372750bbe5751\n",
      "\n",
      "  sbn.distplot(dataframe[\"yas\"])\n"
     ]
    },
    {
     "data": {
      "text/plain": [
       "<Axes: xlabel='yas', ylabel='Density'>"
      ]
     },
     "execution_count": 181,
     "metadata": {},
     "output_type": "execute_result"
    },
    {
     "data": {
      "image/png": "[encoded data removed]",
      "text/plain": [
       "<Figure size 700x500 with 1 Axes>"
      ]
     },
     "metadata": {},
     "output_type": "display_data"
    }
   ],
   "source": [
    "plt.figure(figsize=(7,5))\n",
    "sbn.distplot(dataframe[\"yas\"])\n"
   ]
  },
  {
   "cell_type": "code",
   "execution_count": 182,
   "id": "50d1c0e7",
   "metadata": {},
   "outputs": [
    {
     "name": "stderr",
     "output_type": "stream",
     "text": [
      "C:\\Users\\MONSTER\\AppData\\Local\\Temp\\ipykernel_4348\\3058057528.py:2: UserWarning: \n",
      "\n",
      "`distplot` is a deprecated function and will be removed in seaborn v0.14.0.\n",
      "\n",
      "Please adapt your code to use either `displot` (a figure-level function with\n",
      "similar flexibility) or `histplot` (an axes-level function for histograms).\n",
      "\n",
      "For a guide to updating your code to use the new functions, please see\n",
      "https://gist.github.com/mwaskom/de44147ed2974457ad6372750bbe5751\n",
      "\n",
      "  sbn.distplot(dataframe[\"dinlenme_kan_basıncı\"])\n"
     ]
    },
    {
     "data": {
      "text/plain": [
       "<Axes: xlabel='dinlenme_kan_basıncı', ylabel='Density'>"
      ]
     },
     "execution_count": 182,
     "metadata": {},
     "output_type": "execute_result"
    },
    {
     "data": {
      "image/png": "[encoded data removed]",
      "text/plain": [
       "<Figure size 700x500 with 1 Axes>"
      ]
     },
     "metadata": {},
     "output_type": "display_data"
    }
   ],
   "source": [
    "plt.figure(figsize=(7,5))\n",
    "sbn.distplot(dataframe[\"dinlenme_kan_basıncı\"])"
   ]
  },
  {
   "cell_type": "code",
   "execution_count": 183,
   "id": "f661bb59",
   "metadata": {},
   "outputs": [
    {
     "name": "stderr",
     "output_type": "stream",
     "text": [
      "C:\\Users\\MONSTER\\AppData\\Local\\Temp\\ipykernel_4348\\4041786606.py:2: UserWarning: \n",
      "\n",
      "`distplot` is a deprecated function and will be removed in seaborn v0.14.0.\n",
      "\n",
      "Please adapt your code to use either `displot` (a figure-level function with\n",
      "similar flexibility) or `histplot` (an axes-level function for histograms).\n",
      "\n",
      "For a guide to updating your code to use the new functions, please see\n",
      "https://gist.github.com/mwaskom/de44147ed2974457ad6372750bbe5751\n",
      "\n",
      "  sbn.distplot(dataframe[\"Kolesterol\"])\n"
     ]
    },
    {
     "data": {
      "text/plain": [
       "<Axes: xlabel='Kolesterol', ylabel='Density'>"
      ]
     },
     "execution_count": 183,
     "metadata": {},
     "output_type": "execute_result"
    },
    {
     "data": {
      "image/png": "[encoded data removed]",
      "text/plain": [
       "<Figure size 700x500 with 1 Axes>"
      ]
     },
     "metadata": {},
     "output_type": "display_data"
    }
   ],
   "source": [
    "plt.figure(figsize=(7,5))\n",
    "sbn.distplot(dataframe[\"Kolesterol\"])\n"
   ]
  },
  {
   "cell_type": "code",
   "execution_count": 184,
   "id": "97620237",
   "metadata": {},
   "outputs": [
    {
     "name": "stderr",
     "output_type": "stream",
     "text": [
      "C:\\Users\\MONSTER\\AppData\\Local\\Temp\\ipykernel_4348\\1542808225.py:2: UserWarning: \n",
      "\n",
      "`distplot` is a deprecated function and will be removed in seaborn v0.14.0.\n",
      "\n",
      "Please adapt your code to use either `displot` (a figure-level function with\n",
      "similar flexibility) or `histplot` (an axes-level function for histograms).\n",
      "\n",
      "For a guide to updating your code to use the new functions, please see\n",
      "https://gist.github.com/mwaskom/de44147ed2974457ad6372750bbe5751\n",
      "\n",
      "  sbn.distplot(dataframe[\"Ulasılan_maks_kalp_hızı\"])\n"
     ]
    },
    {
     "data": {
      "text/plain": [
       "<Axes: xlabel='Ulasılan_maks_kalp_hızı', ylabel='Density'>"
      ]
     },
     "execution_count": 184,
     "metadata": {},
     "output_type": "execute_result"
    },
    {
     "data": {
      "image/png": "[encoded data removed]",
      "text/plain": [
       "<Figure size 700x500 with 1 Axes>"
      ]
     },
     "metadata": {},
     "output_type": "display_data"
    }
   ],
   "source": [
    "plt.figure(figsize=(7,5))\n",
    "sbn.distplot(dataframe[\"Ulasılan_maks_kalp_hızı\"])\n"
   ]
  },
  {
   "cell_type": "code",
   "execution_count": 185,
   "id": "2f729b7c",
   "metadata": {},
   "outputs": [
    {
     "name": "stderr",
     "output_type": "stream",
     "text": [
      "C:\\Users\\MONSTER\\AppData\\Local\\Temp\\ipykernel_4348\\3754192220.py:2: UserWarning: \n",
      "\n",
      "`distplot` is a deprecated function and will be removed in seaborn v0.14.0.\n",
      "\n",
      "Please adapt your code to use either `displot` (a figure-level function with\n",
      "similar flexibility) or `histplot` (an axes-level function for histograms).\n",
      "\n",
      "For a guide to updating your code to use the new functions, please see\n",
      "https://gist.github.com/mwaskom/de44147ed2974457ad6372750bbe5751\n",
      "\n",
      "  sbn.distplot(dataframe[\"depresyon_ST\"])\n"
     ]
    },
    {
     "data": {
      "text/plain": [
       "<Axes: xlabel='depresyon_ST', ylabel='Density'>"
      ]
     },
     "execution_count": 185,
     "metadata": {},
     "output_type": "execute_result"
    },
    {
     "data": {
      "image/png": "[encoded data removed]",
      "text/plain": [
       "<Figure size 700x500 with 1 Axes>"
      ]
     },
     "metadata": {},
     "output_type": "display_data"
    }
   ],
   "source": [
    "plt.figure(figsize=(7,5))\n",
    "sbn.distplot(dataframe[\"depresyon_ST\"])\n"
   ]
  },
  {
   "cell_type": "code",
   "execution_count": 186,
   "id": "e35eaee2",
   "metadata": {},
   "outputs": [],
   "source": [
    "from sklearn.model_selection import train_test_split\n",
    "\n"
   ]
  },
  {
   "cell_type": "code",
   "execution_count": 187,
   "id": "f24c8883",
   "metadata": {},
   "outputs": [],
   "source": [
    "y=dataframe[\"gogus_agrı_tipi\"].values\n",
    "x=dataframe.drop(\"gogus_agrı_tipi\",axis=1).values"
   ]
  },
  {
   "cell_type": "code",
   "execution_count": 188,
   "id": "815049b3",
   "metadata": {},
   "outputs": [],
   "source": [
    "x_train,x_test,y_train,y_test =train_test_split(x,y,test_size=0.3,random_state=10)"
   ]
  },
  {
   "cell_type": "code",
   "execution_count": 189,
   "id": "df560df5",
   "metadata": {},
   "outputs": [
    {
     "data": {
      "text/plain": [
       "212"
      ]
     },
     "execution_count": 189,
     "metadata": {},
     "output_type": "execute_result"
    }
   ],
   "source": [
    "len(x_train)"
   ]
  },
  {
   "cell_type": "code",
   "execution_count": 190,
   "id": "eccd1475",
   "metadata": {},
   "outputs": [
    {
     "data": {
      "text/plain": [
       "91"
      ]
     },
     "execution_count": 190,
     "metadata": {},
     "output_type": "execute_result"
    }
   ],
   "source": [
    "len(x_test)"
   ]
  },
  {
   "cell_type": "code",
   "execution_count": 191,
   "id": "12f8d6ed",
   "metadata": {},
   "outputs": [],
   "source": [
    "from tensorflow.keras.models import Sequential\n",
    "from tensorflow.keras.layers import Dense"
   ]
  },
  {
   "cell_type": "code",
   "execution_count": 192,
   "id": "1a5ff818",
   "metadata": {},
   "outputs": [
    {
     "data": {
      "text/plain": [
       "(212, 13)"
      ]
     },
     "execution_count": 192,
     "metadata": {},
     "output_type": "execute_result"
    }
   ],
   "source": [
    "x_train.shape"
   ]
  },
  {
   "cell_type": "code",
   "execution_count": 229,
   "id": "24439032",
   "metadata": {},
   "outputs": [],
   "source": [
    "model=Sequential()\n",
    "\n",
    "model.add(Dense(8,activation=\"relu\"))\n",
    "model.add(Dense(8,activation=\"relu\"))\n",
    "model.add(Dense(8,activation=\"relu\"))\n",
    "model.add(Dense(8,activation=\"relu\"))\n",
    "model.add(Dense(8,activation=\"relu\"))\n",
    "model.add(Dense(8,activation=\"relu\"))\n",
    "model.add(Dense(8,activation=\"relu\"))\n",
    "\n",
    "\n",
    "model.add(Dense(1))\n",
    "\n",
    "model.compile(optimizer=\"adam\",loss=\"mse\")\n"
   ]
  },
  {
   "cell_type": "code",
   "execution_count": 231,
   "id": "672cd3a3",
   "metadata": {},
   "outputs": [
    {
     "name": "stdout",
     "output_type": "stream",
     "text": [
      "Epoch 1/300\n",
      "1/1 [==============================] - 1s 1s/step - loss: 1692.0583 - val_loss: 1406.4587\n",
      "Epoch 2/300\n",
      "1/1 [==============================] - 0s 31ms/step - loss: 1452.5771 - val_loss: 1199.7561\n",
      "Epoch 3/300\n",
      "1/1 [==============================] - 0s 33ms/step - loss: 1238.7096 - val_loss: 1016.2789\n",
      "Epoch 4/300\n",
      "1/1 [==============================] - 0s 34ms/step - loss: 1048.9401 - val_loss: 854.5427\n",
      "Epoch 5/300\n",
      "1/1 [==============================] - 0s 33ms/step - loss: 881.6979 - val_loss: 712.9291\n",
      "Epoch 6/300\n",
      "1/1 [==============================] - 0s 34ms/step - loss: 735.2954 - val_loss: 589.7969\n",
      "Epoch 7/300\n",
      "1/1 [==============================] - 0s 34ms/step - loss: 608.0257 - val_loss: 483.4955\n",
      "Epoch 8/300\n",
      "1/1 [==============================] - 0s 34ms/step - loss: 498.1591 - val_loss: 392.3907\n",
      "Epoch 9/300\n",
      "1/1 [==============================] - 0s 33ms/step - loss: 403.9990 - val_loss: 314.8826\n",
      "Epoch 10/300\n",
      "1/1 [==============================] - 0s 35ms/step - loss: 323.9515 - val_loss: 249.4937\n",
      "Epoch 11/300\n",
      "1/1 [==============================] - 0s 33ms/step - loss: 256.4748 - val_loss: 194.8232\n",
      "Epoch 12/300\n",
      "1/1 [==============================] - 0s 33ms/step - loss: 200.0955 - val_loss: 149.5904\n",
      "Epoch 13/300\n",
      "1/1 [==============================] - 0s 34ms/step - loss: 153.4779 - val_loss: 112.5957\n",
      "Epoch 14/300\n",
      "1/1 [==============================] - 0s 34ms/step - loss: 115.3865 - val_loss: 82.7617\n",
      "Epoch 15/300\n",
      "1/1 [==============================] - 0s 35ms/step - loss: 84.7416 - val_loss: 59.0944\n",
      "Epoch 16/300\n",
      "1/1 [==============================] - 0s 35ms/step - loss: 60.4523 - val_loss: 40.6878\n",
      "Epoch 17/300\n",
      "1/1 [==============================] - 0s 38ms/step - loss: 41.5808 - val_loss: 26.7485\n",
      "Epoch 18/300\n",
      "1/1 [==============================] - 0s 37ms/step - loss: 27.3036 - val_loss: 16.5534\n",
      "Epoch 19/300\n",
      "1/1 [==============================] - 0s 33ms/step - loss: 16.8737 - val_loss: 9.6481\n",
      "Epoch 20/300\n",
      "1/1 [==============================] - 0s 34ms/step - loss: 9.9054 - val_loss: 6.2840\n",
      "Epoch 21/300\n",
      "1/1 [==============================] - 0s 37ms/step - loss: 6.4655 - val_loss: 4.0655\n",
      "Epoch 22/300\n",
      "1/1 [==============================] - 0s 36ms/step - loss: 4.1917 - val_loss: 2.6090\n",
      "Epoch 23/300\n",
      "1/1 [==============================] - 0s 34ms/step - loss: 2.7021 - val_loss: 1.7532\n",
      "Epoch 24/300\n",
      "1/1 [==============================] - 0s 41ms/step - loss: 1.8308 - val_loss: 1.3642\n",
      "Epoch 25/300\n",
      "1/1 [==============================] - 0s 35ms/step - loss: 1.4397 - val_loss: 1.3305\n",
      "Epoch 26/300\n",
      "1/1 [==============================] - 0s 34ms/step - loss: 1.4142 - val_loss: 1.5601\n",
      "Epoch 27/300\n",
      "1/1 [==============================] - 0s 33ms/step - loss: 1.6590 - val_loss: 1.9769\n",
      "Epoch 28/300\n",
      "1/1 [==============================] - 0s 34ms/step - loss: 2.0961 - val_loss: 2.5185\n",
      "Epoch 29/300\n",
      "1/1 [==============================] - 0s 34ms/step - loss: 2.6611 - val_loss: 3.1340\n",
      "Epoch 30/300\n",
      "1/1 [==============================] - 0s 33ms/step - loss: 3.3014 - val_loss: 3.7822\n",
      "Epoch 31/300\n",
      "1/1 [==============================] - 0s 34ms/step - loss: 3.9748 - val_loss: 4.4308\n",
      "Epoch 32/300\n",
      "1/1 [==============================] - 0s 33ms/step - loss: 4.6462 - val_loss: 5.0542\n",
      "Epoch 33/300\n",
      "1/1 [==============================] - 0s 36ms/step - loss: 5.2908 - val_loss: 5.6334\n",
      "Epoch 34/300\n",
      "1/1 [==============================] - 0s 36ms/step - loss: 5.8889 - val_loss: 6.1542\n",
      "Epoch 35/300\n",
      "1/1 [==============================] - 0s 39ms/step - loss: 6.4262 - val_loss: 6.6070\n",
      "Epoch 36/300\n",
      "1/1 [==============================] - 0s 45ms/step - loss: 6.8927 - val_loss: 6.9859\n",
      "Epoch 37/300\n",
      "1/1 [==============================] - 0s 42ms/step - loss: 7.2825 - val_loss: 7.2881\n",
      "Epoch 38/300\n",
      "1/1 [==============================] - 0s 36ms/step - loss: 7.5927 - val_loss: 7.5131\n",
      "Epoch 39/300\n",
      "1/1 [==============================] - 0s 38ms/step - loss: 7.8231 - val_loss: 7.6628\n",
      "Epoch 40/300\n",
      "1/1 [==============================] - 0s 43ms/step - loss: 7.9755 - val_loss: 7.7406\n",
      "Epoch 41/300\n",
      "1/1 [==============================] - 0s 41ms/step - loss: 8.0535 - val_loss: 7.7511\n",
      "Epoch 42/300\n",
      "1/1 [==============================] - 0s 42ms/step - loss: 8.0620 - val_loss: 7.6999\n",
      "Epoch 43/300\n",
      "1/1 [==============================] - 0s 48ms/step - loss: 8.0067 - val_loss: 7.5932\n",
      "Epoch 44/300\n",
      "1/1 [==============================] - 0s 34ms/step - loss: 7.8940 - val_loss: 7.4376\n",
      "Epoch 45/300\n",
      "1/1 [==============================] - 0s 38ms/step - loss: 7.7308 - val_loss: 7.2398\n",
      "Epoch 46/300\n",
      "1/1 [==============================] - 0s 37ms/step - loss: 7.5241 - val_loss: 7.0064\n",
      "Epoch 47/300\n",
      "1/1 [==============================] - 0s 41ms/step - loss: 7.2808 - val_loss: 6.7442\n",
      "Epoch 48/300\n",
      "1/1 [==============================] - 0s 39ms/step - loss: 7.0078 - val_loss: 6.4594\n",
      "Epoch 49/300\n",
      "1/1 [==============================] - 0s 39ms/step - loss: 6.7117 - val_loss: 6.1580\n",
      "Epoch 50/300\n",
      "1/1 [==============================] - 0s 36ms/step - loss: 6.3985 - val_loss: 5.8455\n",
      "Epoch 51/300\n",
      "1/1 [==============================] - 0s 37ms/step - loss: 6.0740 - val_loss: 5.5270\n",
      "Epoch 52/300\n",
      "1/1 [==============================] - 0s 43ms/step - loss: 5.7435 - val_loss: 5.2070\n",
      "Epoch 53/300\n",
      "1/1 [==============================] - 0s 43ms/step - loss: 5.4116 - val_loss: 4.8896\n",
      "Epoch 54/300\n",
      "1/1 [==============================] - 0s 34ms/step - loss: 5.0825 - val_loss: 4.5781\n",
      "Epoch 55/300\n",
      "1/1 [==============================] - 0s 37ms/step - loss: 4.7598 - val_loss: 4.2756\n",
      "Epoch 56/300\n",
      "1/1 [==============================] - 0s 38ms/step - loss: 4.4466 - val_loss: 3.9846\n",
      "Epoch 57/300\n",
      "1/1 [==============================] - 0s 37ms/step - loss: 4.1453 - val_loss: 3.7071\n",
      "Epoch 58/300\n",
      "1/1 [==============================] - 0s 39ms/step - loss: 3.8579 - val_loss: 3.4446\n",
      "Epoch 59/300\n",
      "1/1 [==============================] - 0s 38ms/step - loss: 3.5859 - val_loss: 3.1981\n",
      "Epoch 60/300\n",
      "1/1 [==============================] - 0s 36ms/step - loss: 3.3305 - val_loss: 2.9685\n",
      "Epoch 61/300\n",
      "1/1 [==============================] - 0s 38ms/step - loss: 3.0926 - val_loss: 2.7561\n",
      "Epoch 62/300\n",
      "1/1 [==============================] - 0s 36ms/step - loss: 2.8726 - val_loss: 2.5610\n",
      "Epoch 63/300\n",
      "1/1 [==============================] - 0s 40ms/step - loss: 2.6708 - val_loss: 2.3832\n",
      "Epoch 64/300\n",
      "1/1 [==============================] - 0s 37ms/step - loss: 2.4868 - val_loss: 2.2223\n",
      "Epoch 65/300\n",
      "1/1 [==============================] - 0s 39ms/step - loss: 2.3205 - val_loss: 2.0777\n",
      "Epoch 66/300\n",
      "1/1 [==============================] - 0s 40ms/step - loss: 2.1711 - val_loss: 1.9487\n",
      "Epoch 67/300\n",
      "1/1 [==============================] - 0s 39ms/step - loss: 2.0380 - val_loss: 1.8346\n",
      "Epoch 68/300\n",
      "1/1 [==============================] - 0s 44ms/step - loss: 1.9203 - val_loss: 1.7345\n",
      "Epoch 69/300\n",
      "1/1 [==============================] - 0s 38ms/step - loss: 1.8171 - val_loss: 1.6473\n",
      "Epoch 70/300\n",
      "1/1 [==============================] - 0s 35ms/step - loss: 1.7273 - val_loss: 1.5721\n",
      "Epoch 71/300\n",
      "1/1 [==============================] - 0s 39ms/step - loss: 1.6499 - val_loss: 1.5080\n",
      "Epoch 72/300\n",
      "1/1 [==============================] - 0s 42ms/step - loss: 1.5839 - val_loss: 1.4537\n",
      "Epoch 73/300\n",
      "1/1 [==============================] - 0s 39ms/step - loss: 1.5282 - val_loss: 1.4084\n",
      "Epoch 74/300\n",
      "1/1 [==============================] - 0s 39ms/step - loss: 1.4817 - val_loss: 1.3711\n",
      "Epoch 75/300\n",
      "1/1 [==============================] - 0s 47ms/step - loss: 1.4434 - val_loss: 1.3409\n",
      "Epoch 76/300\n",
      "1/1 [==============================] - 0s 43ms/step - loss: 1.4123 - val_loss: 1.3168\n",
      "Epoch 77/300\n",
      "1/1 [==============================] - 0s 40ms/step - loss: 1.3876 - val_loss: 1.2980\n",
      "Epoch 78/300\n",
      "1/1 [==============================] - 0s 37ms/step - loss: 1.3683 - val_loss: 1.2838\n",
      "Epoch 79/300\n",
      "1/1 [==============================] - 0s 37ms/step - loss: 1.3537 - val_loss: 1.2734\n",
      "Epoch 80/300\n",
      "1/1 [==============================] - 0s 37ms/step - loss: 1.3431 - val_loss: 1.2662\n",
      "Epoch 81/300\n",
      "1/1 [==============================] - 0s 39ms/step - loss: 1.3357 - val_loss: 1.2617\n",
      "Epoch 82/300\n",
      "1/1 [==============================] - 0s 40ms/step - loss: 1.3309 - val_loss: 1.2592\n",
      "Epoch 83/300\n"
     ]
    },
    {
     "name": "stdout",
     "output_type": "stream",
     "text": [
      "1/1 [==============================] - 0s 37ms/step - loss: 1.3283 - val_loss: 1.2583\n",
      "Epoch 84/300\n",
      "1/1 [==============================] - 0s 35ms/step - loss: 1.3273 - val_loss: 1.2587\n",
      "Epoch 85/300\n",
      "1/1 [==============================] - 0s 43ms/step - loss: 1.3276 - val_loss: 1.2600\n",
      "Epoch 86/300\n",
      "1/1 [==============================] - 0s 36ms/step - loss: 1.3287 - val_loss: 1.2618\n",
      "Epoch 87/300\n",
      "1/1 [==============================] - 0s 37ms/step - loss: 1.3305 - val_loss: 1.2640\n",
      "Epoch 88/300\n",
      "1/1 [==============================] - 0s 36ms/step - loss: 1.3326 - val_loss: 1.2664\n",
      "Epoch 89/300\n",
      "1/1 [==============================] - 0s 38ms/step - loss: 1.3348 - val_loss: 1.2687\n",
      "Epoch 90/300\n",
      "1/1 [==============================] - 0s 40ms/step - loss: 1.3370 - val_loss: 1.2709\n",
      "Epoch 91/300\n",
      "1/1 [==============================] - 0s 38ms/step - loss: 1.3390 - val_loss: 1.2729\n",
      "Epoch 92/300\n",
      "1/1 [==============================] - 0s 36ms/step - loss: 1.3408 - val_loss: 1.2746\n",
      "Epoch 93/300\n",
      "1/1 [==============================] - 0s 36ms/step - loss: 1.3422 - val_loss: 1.2759\n",
      "Epoch 94/300\n",
      "1/1 [==============================] - 0s 35ms/step - loss: 1.3434 - val_loss: 1.2769\n",
      "Epoch 95/300\n",
      "1/1 [==============================] - 0s 37ms/step - loss: 1.3441 - val_loss: 1.2775\n",
      "Epoch 96/300\n",
      "1/1 [==============================] - 0s 35ms/step - loss: 1.3445 - val_loss: 1.2777\n",
      "Epoch 97/300\n",
      "1/1 [==============================] - 0s 36ms/step - loss: 1.3445 - val_loss: 1.2777\n",
      "Epoch 98/300\n",
      "1/1 [==============================] - 0s 34ms/step - loss: 1.3442 - val_loss: 1.2773\n",
      "Epoch 99/300\n",
      "1/1 [==============================] - 0s 34ms/step - loss: 1.3435 - val_loss: 1.2766\n",
      "Epoch 100/300\n",
      "1/1 [==============================] - 0s 33ms/step - loss: 1.3426 - val_loss: 1.2757\n",
      "Epoch 101/300\n",
      "1/1 [==============================] - 0s 35ms/step - loss: 1.3415 - val_loss: 1.2745\n",
      "Epoch 102/300\n",
      "1/1 [==============================] - 0s 34ms/step - loss: 1.3401 - val_loss: 1.2732\n",
      "Epoch 103/300\n",
      "1/1 [==============================] - 0s 35ms/step - loss: 1.3386 - val_loss: 1.2718\n",
      "Epoch 104/300\n",
      "1/1 [==============================] - 0s 39ms/step - loss: 1.3370 - val_loss: 1.2703\n",
      "Epoch 105/300\n",
      "1/1 [==============================] - 0s 36ms/step - loss: 1.3353 - val_loss: 1.2687\n",
      "Epoch 106/300\n",
      "1/1 [==============================] - 0s 37ms/step - loss: 1.3335 - val_loss: 1.2671\n",
      "Epoch 107/300\n",
      "1/1 [==============================] - 0s 36ms/step - loss: 1.3317 - val_loss: 1.2655\n",
      "Epoch 108/300\n",
      "1/1 [==============================] - 0s 33ms/step - loss: 1.3300 - val_loss: 1.2639\n",
      "Epoch 109/300\n",
      "1/1 [==============================] - 0s 31ms/step - loss: 1.3282 - val_loss: 1.2624\n",
      "Epoch 110/300\n",
      "1/1 [==============================] - 0s 31ms/step - loss: 1.3266 - val_loss: 1.2609\n",
      "Epoch 111/300\n",
      "1/1 [==============================] - 0s 31ms/step - loss: 1.3249 - val_loss: 1.2595\n",
      "Epoch 112/300\n",
      "1/1 [==============================] - 0s 34ms/step - loss: 1.3234 - val_loss: 1.2582\n",
      "Epoch 113/300\n",
      "1/1 [==============================] - 0s 33ms/step - loss: 1.3220 - val_loss: 1.2569\n",
      "Epoch 114/300\n",
      "1/1 [==============================] - 0s 32ms/step - loss: 1.3206 - val_loss: 1.2558\n",
      "Epoch 115/300\n",
      "1/1 [==============================] - 0s 33ms/step - loss: 1.3194 - val_loss: 1.2547\n",
      "Epoch 116/300\n",
      "1/1 [==============================] - 0s 31ms/step - loss: 1.3183 - val_loss: 1.2538\n",
      "Epoch 117/300\n",
      "1/1 [==============================] - 0s 31ms/step - loss: 1.3172 - val_loss: 1.2529\n",
      "Epoch 118/300\n",
      "1/1 [==============================] - 0s 30ms/step - loss: 1.3163 - val_loss: 1.2522\n",
      "Epoch 119/300\n",
      "1/1 [==============================] - 0s 31ms/step - loss: 1.3155 - val_loss: 1.2515\n",
      "Epoch 120/300\n",
      "1/1 [==============================] - 0s 32ms/step - loss: 1.3147 - val_loss: 1.2508\n",
      "Epoch 121/300\n",
      "1/1 [==============================] - 0s 32ms/step - loss: 1.3140 - val_loss: 1.2503\n",
      "Epoch 122/300\n",
      "1/1 [==============================] - 0s 31ms/step - loss: 1.3134 - val_loss: 1.2498\n",
      "Epoch 123/300\n",
      "1/1 [==============================] - 0s 29ms/step - loss: 1.3129 - val_loss: 1.2494\n",
      "Epoch 124/300\n",
      "1/1 [==============================] - 0s 32ms/step - loss: 1.3124 - val_loss: 1.2490\n",
      "Epoch 125/300\n",
      "1/1 [==============================] - 0s 31ms/step - loss: 1.3120 - val_loss: 1.2487\n",
      "Epoch 126/300\n",
      "1/1 [==============================] - 0s 32ms/step - loss: 1.3116 - val_loss: 1.2484\n",
      "Epoch 127/300\n",
      "1/1 [==============================] - 0s 35ms/step - loss: 1.3113 - val_loss: 1.2481\n",
      "Epoch 128/300\n",
      "1/1 [==============================] - 0s 36ms/step - loss: 1.3110 - val_loss: 1.2479\n",
      "Epoch 129/300\n",
      "1/1 [==============================] - 0s 35ms/step - loss: 1.3107 - val_loss: 1.2477\n",
      "Epoch 130/300\n",
      "1/1 [==============================] - 0s 34ms/step - loss: 1.3104 - val_loss: 1.2474\n",
      "Epoch 131/300\n",
      "1/1 [==============================] - 0s 34ms/step - loss: 1.3102 - val_loss: 1.2472\n",
      "Epoch 132/300\n",
      "1/1 [==============================] - 0s 30ms/step - loss: 1.3099 - val_loss: 1.2471\n",
      "Epoch 133/300\n",
      "1/1 [==============================] - 0s 34ms/step - loss: 1.3097 - val_loss: 1.2469\n",
      "Epoch 134/300\n",
      "1/1 [==============================] - 0s 34ms/step - loss: 1.3094 - val_loss: 1.2467\n",
      "Epoch 135/300\n",
      "1/1 [==============================] - 0s 35ms/step - loss: 1.3092 - val_loss: 1.2465\n",
      "Epoch 136/300\n",
      "1/1 [==============================] - 0s 37ms/step - loss: 1.3089 - val_loss: 1.2463\n",
      "Epoch 137/300\n",
      "1/1 [==============================] - 0s 37ms/step - loss: 1.3087 - val_loss: 1.2461\n",
      "Epoch 138/300\n",
      "1/1 [==============================] - 0s 41ms/step - loss: 1.3085 - val_loss: 1.2460\n",
      "Epoch 139/300\n",
      "1/1 [==============================] - 0s 35ms/step - loss: 1.3082 - val_loss: 1.2458\n",
      "Epoch 140/300\n",
      "1/1 [==============================] - 0s 44ms/step - loss: 1.3080 - val_loss: 1.2456\n",
      "Epoch 141/300\n",
      "1/1 [==============================] - 0s 36ms/step - loss: 1.3077 - val_loss: 1.2454\n",
      "Epoch 142/300\n",
      "1/1 [==============================] - 0s 42ms/step - loss: 1.3074 - val_loss: 1.2452\n",
      "Epoch 143/300\n",
      "1/1 [==============================] - 0s 38ms/step - loss: 1.3071 - val_loss: 1.2449\n",
      "Epoch 144/300\n",
      "1/1 [==============================] - 0s 32ms/step - loss: 1.3069 - val_loss: 1.2447\n",
      "Epoch 145/300\n",
      "1/1 [==============================] - 0s 32ms/step - loss: 1.3066 - val_loss: 1.2445\n",
      "Epoch 146/300\n",
      "1/1 [==============================] - 0s 30ms/step - loss: 1.3063 - val_loss: 1.2443\n",
      "Epoch 147/300\n",
      "1/1 [==============================] - 0s 31ms/step - loss: 1.3060 - val_loss: 1.2441\n",
      "Epoch 148/300\n",
      "1/1 [==============================] - 0s 34ms/step - loss: 1.3057 - val_loss: 1.2439\n",
      "Epoch 149/300\n",
      "1/1 [==============================] - 0s 31ms/step - loss: 1.3054 - val_loss: 1.2436\n",
      "Epoch 150/300\n",
      "1/1 [==============================] - 0s 32ms/step - loss: 1.3051 - val_loss: 1.2434\n",
      "Epoch 151/300\n",
      "1/1 [==============================] - 0s 30ms/step - loss: 1.3048 - val_loss: 1.2432\n",
      "Epoch 152/300\n",
      "1/1 [==============================] - 0s 33ms/step - loss: 1.3045 - val_loss: 1.2430\n",
      "Epoch 153/300\n",
      "1/1 [==============================] - 0s 31ms/step - loss: 1.3042 - val_loss: 1.2427\n",
      "Epoch 154/300\n",
      "1/1 [==============================] - 0s 31ms/step - loss: 1.3039 - val_loss: 1.2425\n",
      "Epoch 155/300\n",
      "1/1 [==============================] - 0s 30ms/step - loss: 1.3036 - val_loss: 1.2423\n",
      "Epoch 156/300\n",
      "1/1 [==============================] - 0s 32ms/step - loss: 1.3032 - val_loss: 1.2421\n",
      "Epoch 157/300\n",
      "1/1 [==============================] - 0s 32ms/step - loss: 1.3029 - val_loss: 1.2419\n",
      "Epoch 158/300\n",
      "1/1 [==============================] - 0s 33ms/step - loss: 1.3026 - val_loss: 1.2416\n",
      "Epoch 159/300\n",
      "1/1 [==============================] - 0s 32ms/step - loss: 1.3023 - val_loss: 1.2414\n",
      "Epoch 160/300\n",
      "1/1 [==============================] - 0s 31ms/step - loss: 1.3020 - val_loss: 1.2412\n",
      "Epoch 161/300\n",
      "1/1 [==============================] - 0s 30ms/step - loss: 1.3017 - val_loss: 1.2410\n",
      "Epoch 162/300\n",
      "1/1 [==============================] - 0s 34ms/step - loss: 1.3014 - val_loss: 1.2407\n",
      "Epoch 163/300\n",
      "1/1 [==============================] - 0s 34ms/step - loss: 1.3012 - val_loss: 1.2405\n",
      "Epoch 164/300\n",
      "1/1 [==============================] - 0s 33ms/step - loss: 1.3009 - val_loss: 1.2403\n",
      "Epoch 165/300\n"
     ]
    },
    {
     "name": "stdout",
     "output_type": "stream",
     "text": [
      "1/1 [==============================] - 0s 32ms/step - loss: 1.3006 - val_loss: 1.2400\n",
      "Epoch 166/300\n",
      "1/1 [==============================] - 0s 34ms/step - loss: 1.3003 - val_loss: 1.2398\n",
      "Epoch 167/300\n",
      "1/1 [==============================] - 0s 33ms/step - loss: 1.3000 - val_loss: 1.2396\n",
      "Epoch 168/300\n",
      "1/1 [==============================] - 0s 36ms/step - loss: 1.2997 - val_loss: 1.2394\n",
      "Epoch 169/300\n",
      "1/1 [==============================] - 0s 32ms/step - loss: 1.2994 - val_loss: 1.2391\n",
      "Epoch 170/300\n",
      "1/1 [==============================] - 0s 30ms/step - loss: 1.2991 - val_loss: 1.2389\n",
      "Epoch 171/300\n",
      "1/1 [==============================] - 0s 32ms/step - loss: 1.2988 - val_loss: 1.2387\n",
      "Epoch 172/300\n",
      "1/1 [==============================] - 0s 31ms/step - loss: 1.2985 - val_loss: 1.2384\n",
      "Epoch 173/300\n",
      "1/1 [==============================] - 0s 30ms/step - loss: 1.2982 - val_loss: 1.2382\n",
      "Epoch 174/300\n",
      "1/1 [==============================] - 0s 30ms/step - loss: 1.2979 - val_loss: 1.2379\n",
      "Epoch 175/300\n",
      "1/1 [==============================] - 0s 32ms/step - loss: 1.2976 - val_loss: 1.2377\n",
      "Epoch 176/300\n",
      "1/1 [==============================] - 0s 31ms/step - loss: 1.2973 - val_loss: 1.2375\n",
      "Epoch 177/300\n",
      "1/1 [==============================] - 0s 31ms/step - loss: 1.2970 - val_loss: 1.2372\n",
      "Epoch 178/300\n",
      "1/1 [==============================] - 0s 32ms/step - loss: 1.2966 - val_loss: 1.2370\n",
      "Epoch 179/300\n",
      "1/1 [==============================] - 0s 35ms/step - loss: 1.2963 - val_loss: 1.2367\n",
      "Epoch 180/300\n",
      "1/1 [==============================] - 0s 31ms/step - loss: 1.2960 - val_loss: 1.2365\n",
      "Epoch 181/300\n",
      "1/1 [==============================] - 0s 33ms/step - loss: 1.2957 - val_loss: 1.2363\n",
      "Epoch 182/300\n",
      "1/1 [==============================] - 0s 32ms/step - loss: 1.2954 - val_loss: 1.2360\n",
      "Epoch 183/300\n",
      "1/1 [==============================] - 0s 30ms/step - loss: 1.2950 - val_loss: 1.2358\n",
      "Epoch 184/300\n",
      "1/1 [==============================] - 0s 34ms/step - loss: 1.2947 - val_loss: 1.2355\n",
      "Epoch 185/300\n",
      "1/1 [==============================] - 0s 30ms/step - loss: 1.2944 - val_loss: 1.2353\n",
      "Epoch 186/300\n",
      "1/1 [==============================] - 0s 32ms/step - loss: 1.2941 - val_loss: 1.2350\n",
      "Epoch 187/300\n",
      "1/1 [==============================] - 0s 31ms/step - loss: 1.2938 - val_loss: 1.2348\n",
      "Epoch 188/300\n",
      "1/1 [==============================] - 0s 32ms/step - loss: 1.2934 - val_loss: 1.2345\n",
      "Epoch 189/300\n",
      "1/1 [==============================] - 0s 32ms/step - loss: 1.2931 - val_loss: 1.2343\n",
      "Epoch 190/300\n",
      "1/1 [==============================] - 0s 34ms/step - loss: 1.2928 - val_loss: 1.2341\n",
      "Epoch 191/300\n",
      "1/1 [==============================] - 0s 33ms/step - loss: 1.2925 - val_loss: 1.2338\n",
      "Epoch 192/300\n",
      "1/1 [==============================] - 0s 33ms/step - loss: 1.2921 - val_loss: 1.2336\n",
      "Epoch 193/300\n",
      "1/1 [==============================] - 0s 34ms/step - loss: 1.2918 - val_loss: 1.2333\n",
      "Epoch 194/300\n",
      "1/1 [==============================] - 0s 33ms/step - loss: 1.2915 - val_loss: 1.2331\n",
      "Epoch 195/300\n",
      "1/1 [==============================] - 0s 34ms/step - loss: 1.2912 - val_loss: 1.2328\n",
      "Epoch 196/300\n",
      "1/1 [==============================] - 0s 34ms/step - loss: 1.2908 - val_loss: 1.2326\n",
      "Epoch 197/300\n",
      "1/1 [==============================] - 0s 32ms/step - loss: 1.2905 - val_loss: 1.2323\n",
      "Epoch 198/300\n",
      "1/1 [==============================] - 0s 32ms/step - loss: 1.2902 - val_loss: 1.2321\n",
      "Epoch 199/300\n",
      "1/1 [==============================] - 0s 32ms/step - loss: 1.2898 - val_loss: 1.2318\n",
      "Epoch 200/300\n",
      "1/1 [==============================] - 0s 34ms/step - loss: 1.2895 - val_loss: 1.2316\n",
      "Epoch 201/300\n",
      "1/1 [==============================] - 0s 31ms/step - loss: 1.2892 - val_loss: 1.2313\n",
      "Epoch 202/300\n",
      "1/1 [==============================] - 0s 33ms/step - loss: 1.2889 - val_loss: 1.2311\n",
      "Epoch 203/300\n",
      "1/1 [==============================] - 0s 30ms/step - loss: 1.2885 - val_loss: 1.2308\n",
      "Epoch 204/300\n",
      "1/1 [==============================] - 0s 32ms/step - loss: 1.2882 - val_loss: 1.2306\n",
      "Epoch 205/300\n",
      "1/1 [==============================] - 0s 32ms/step - loss: 1.2879 - val_loss: 1.2303\n",
      "Epoch 206/300\n",
      "1/1 [==============================] - 0s 34ms/step - loss: 1.2876 - val_loss: 1.2301\n",
      "Epoch 207/300\n",
      "1/1 [==============================] - 0s 33ms/step - loss: 1.2872 - val_loss: 1.2298\n",
      "Epoch 208/300\n",
      "1/1 [==============================] - 0s 33ms/step - loss: 1.2869 - val_loss: 1.2296\n",
      "Epoch 209/300\n",
      "1/1 [==============================] - 0s 34ms/step - loss: 1.2866 - val_loss: 1.2293\n",
      "Epoch 210/300\n",
      "1/1 [==============================] - 0s 31ms/step - loss: 1.2862 - val_loss: 1.2291\n",
      "Epoch 211/300\n",
      "1/1 [==============================] - 0s 32ms/step - loss: 1.2859 - val_loss: 1.2288\n",
      "Epoch 212/300\n",
      "1/1 [==============================] - 0s 31ms/step - loss: 1.2856 - val_loss: 1.2286\n",
      "Epoch 213/300\n",
      "1/1 [==============================] - 0s 47ms/step - loss: 1.2853 - val_loss: 1.2283\n",
      "Epoch 214/300\n",
      "1/1 [==============================] - 0s 32ms/step - loss: 1.2849 - val_loss: 1.2281\n",
      "Epoch 215/300\n",
      "1/1 [==============================] - 0s 30ms/step - loss: 1.2846 - val_loss: 1.2278\n",
      "Epoch 216/300\n",
      "1/1 [==============================] - 0s 32ms/step - loss: 1.2843 - val_loss: 1.2276\n",
      "Epoch 217/300\n",
      "1/1 [==============================] - 0s 32ms/step - loss: 1.2840 - val_loss: 1.2273\n",
      "Epoch 218/300\n",
      "1/1 [==============================] - 0s 30ms/step - loss: 1.2837 - val_loss: 1.2271\n",
      "Epoch 219/300\n",
      "1/1 [==============================] - 0s 33ms/step - loss: 1.2833 - val_loss: 1.2268\n",
      "Epoch 220/300\n",
      "1/1 [==============================] - 0s 34ms/step - loss: 1.2830 - val_loss: 1.2266\n",
      "Epoch 221/300\n",
      "1/1 [==============================] - 0s 32ms/step - loss: 1.2827 - val_loss: 1.2264\n",
      "Epoch 222/300\n",
      "1/1 [==============================] - 0s 31ms/step - loss: 1.2824 - val_loss: 1.2261\n",
      "Epoch 223/300\n",
      "1/1 [==============================] - 0s 30ms/step - loss: 1.2821 - val_loss: 1.2259\n",
      "Epoch 224/300\n",
      "1/1 [==============================] - 0s 32ms/step - loss: 1.2818 - val_loss: 1.2256\n",
      "Epoch 225/300\n",
      "1/1 [==============================] - 0s 33ms/step - loss: 1.2815 - val_loss: 1.2254\n",
      "Epoch 226/300\n",
      "1/1 [==============================] - 0s 33ms/step - loss: 1.2811 - val_loss: 1.2251\n",
      "Epoch 227/300\n",
      "1/1 [==============================] - 0s 40ms/step - loss: 1.2808 - val_loss: 1.2249\n",
      "Epoch 228/300\n",
      "1/1 [==============================] - 0s 60ms/step - loss: 1.2805 - val_loss: 1.2247\n",
      "Epoch 229/300\n",
      "1/1 [==============================] - 0s 42ms/step - loss: 1.2802 - val_loss: 1.2244\n",
      "Epoch 230/300\n",
      "1/1 [==============================] - 0s 32ms/step - loss: 1.2799 - val_loss: 1.2242\n",
      "Epoch 231/300\n",
      "1/1 [==============================] - 0s 33ms/step - loss: 1.2796 - val_loss: 1.2239\n",
      "Epoch 232/300\n",
      "1/1 [==============================] - 0s 34ms/step - loss: 1.2793 - val_loss: 1.2237\n",
      "Epoch 233/300\n",
      "1/1 [==============================] - 0s 31ms/step - loss: 1.2790 - val_loss: 1.2234\n",
      "Epoch 234/300\n",
      "1/1 [==============================] - 0s 41ms/step - loss: 1.2787 - val_loss: 1.2231\n",
      "Epoch 235/300\n",
      "1/1 [==============================] - 0s 38ms/step - loss: 1.2783 - val_loss: 1.2229\n",
      "Epoch 236/300\n",
      "1/1 [==============================] - 0s 31ms/step - loss: 1.2780 - val_loss: 1.2226\n",
      "Epoch 237/300\n",
      "1/1 [==============================] - 0s 32ms/step - loss: 1.2777 - val_loss: 1.2224\n",
      "Epoch 238/300\n",
      "1/1 [==============================] - 0s 32ms/step - loss: 1.2774 - val_loss: 1.2221\n",
      "Epoch 239/300\n",
      "1/1 [==============================] - 0s 33ms/step - loss: 1.2771 - val_loss: 1.2218\n",
      "Epoch 240/300\n",
      "1/1 [==============================] - 0s 32ms/step - loss: 1.2768 - val_loss: 1.2216\n",
      "Epoch 241/300\n",
      "1/1 [==============================] - 0s 33ms/step - loss: 1.2765 - val_loss: 1.2213\n",
      "Epoch 242/300\n",
      "1/1 [==============================] - 0s 33ms/step - loss: 1.2762 - val_loss: 1.2210\n",
      "Epoch 243/300\n",
      "1/1 [==============================] - 0s 33ms/step - loss: 1.2759 - val_loss: 1.2207\n",
      "Epoch 244/300\n",
      "1/1 [==============================] - 0s 31ms/step - loss: 1.2756 - val_loss: 1.2205\n",
      "Epoch 245/300\n",
      "1/1 [==============================] - 0s 31ms/step - loss: 1.2753 - val_loss: 1.2202\n",
      "Epoch 246/300\n",
      "1/1 [==============================] - 0s 31ms/step - loss: 1.2749 - val_loss: 1.2199\n",
      "Epoch 247/300\n"
     ]
    },
    {
     "name": "stdout",
     "output_type": "stream",
     "text": [
      "1/1 [==============================] - 0s 33ms/step - loss: 1.2746 - val_loss: 1.2196\n",
      "Epoch 248/300\n",
      "1/1 [==============================] - 0s 34ms/step - loss: 1.2743 - val_loss: 1.2193\n",
      "Epoch 249/300\n",
      "1/1 [==============================] - 0s 30ms/step - loss: 1.2740 - val_loss: 1.2191\n",
      "Epoch 250/300\n",
      "1/1 [==============================] - 0s 31ms/step - loss: 1.2737 - val_loss: 1.2188\n",
      "Epoch 251/300\n",
      "1/1 [==============================] - 0s 30ms/step - loss: 1.2733 - val_loss: 1.2185\n",
      "Epoch 252/300\n",
      "1/1 [==============================] - 0s 31ms/step - loss: 1.2730 - val_loss: 1.2182\n",
      "Epoch 253/300\n",
      "1/1 [==============================] - 0s 31ms/step - loss: 1.2727 - val_loss: 1.2179\n",
      "Epoch 254/300\n",
      "1/1 [==============================] - 0s 32ms/step - loss: 1.2724 - val_loss: 1.2176\n",
      "Epoch 255/300\n",
      "1/1 [==============================] - 0s 31ms/step - loss: 1.2721 - val_loss: 1.2174\n",
      "Epoch 256/300\n",
      "1/1 [==============================] - 0s 31ms/step - loss: 1.2717 - val_loss: 1.2171\n",
      "Epoch 257/300\n",
      "1/1 [==============================] - 0s 32ms/step - loss: 1.2714 - val_loss: 1.2168\n",
      "Epoch 258/300\n",
      "1/1 [==============================] - 0s 30ms/step - loss: 1.2711 - val_loss: 1.2165\n",
      "Epoch 259/300\n",
      "1/1 [==============================] - 0s 31ms/step - loss: 1.2708 - val_loss: 1.2162\n",
      "Epoch 260/300\n",
      "1/1 [==============================] - 0s 31ms/step - loss: 1.2705 - val_loss: 1.2160\n",
      "Epoch 261/300\n",
      "1/1 [==============================] - 0s 30ms/step - loss: 1.2701 - val_loss: 1.2157\n",
      "Epoch 262/300\n",
      "1/1 [==============================] - 0s 31ms/step - loss: 1.2698 - val_loss: 1.2154\n",
      "Epoch 263/300\n",
      "1/1 [==============================] - 0s 31ms/step - loss: 1.2695 - val_loss: 1.2151\n",
      "Epoch 264/300\n",
      "1/1 [==============================] - 0s 32ms/step - loss: 1.2692 - val_loss: 1.2148\n",
      "Epoch 265/300\n",
      "1/1 [==============================] - 0s 31ms/step - loss: 1.2689 - val_loss: 1.2146\n",
      "Epoch 266/300\n",
      "1/1 [==============================] - 0s 32ms/step - loss: 1.2685 - val_loss: 1.2143\n",
      "Epoch 267/300\n",
      "1/1 [==============================] - 0s 32ms/step - loss: 1.2682 - val_loss: 1.2140\n",
      "Epoch 268/300\n",
      "1/1 [==============================] - 0s 32ms/step - loss: 1.2679 - val_loss: 1.2137\n",
      "Epoch 269/300\n",
      "1/1 [==============================] - 0s 33ms/step - loss: 1.2676 - val_loss: 1.2135\n",
      "Epoch 270/300\n",
      "1/1 [==============================] - 0s 30ms/step - loss: 1.2673 - val_loss: 1.2132\n",
      "Epoch 271/300\n",
      "1/1 [==============================] - 0s 33ms/step - loss: 1.2669 - val_loss: 1.2129\n",
      "Epoch 272/300\n",
      "1/1 [==============================] - 0s 37ms/step - loss: 1.2666 - val_loss: 1.2126\n",
      "Epoch 273/300\n",
      "1/1 [==============================] - 0s 32ms/step - loss: 1.2663 - val_loss: 1.2124\n",
      "Epoch 274/300\n",
      "1/1 [==============================] - 0s 32ms/step - loss: 1.2660 - val_loss: 1.2121\n",
      "Epoch 275/300\n",
      "1/1 [==============================] - 0s 29ms/step - loss: 1.2657 - val_loss: 1.2118\n",
      "Epoch 276/300\n",
      "1/1 [==============================] - 0s 32ms/step - loss: 1.2653 - val_loss: 1.2115\n",
      "Epoch 277/300\n",
      "1/1 [==============================] - 0s 33ms/step - loss: 1.2650 - val_loss: 1.2113\n",
      "Epoch 278/300\n",
      "1/1 [==============================] - 0s 33ms/step - loss: 1.2647 - val_loss: 1.2110\n",
      "Epoch 279/300\n",
      "1/1 [==============================] - 0s 31ms/step - loss: 1.2644 - val_loss: 1.2107\n",
      "Epoch 280/300\n",
      "1/1 [==============================] - 0s 31ms/step - loss: 1.2641 - val_loss: 1.2104\n",
      "Epoch 281/300\n",
      "1/1 [==============================] - 0s 31ms/step - loss: 1.2637 - val_loss: 1.2102\n",
      "Epoch 282/300\n",
      "1/1 [==============================] - 0s 31ms/step - loss: 1.2634 - val_loss: 1.2099\n",
      "Epoch 283/300\n",
      "1/1 [==============================] - 0s 34ms/step - loss: 1.2631 - val_loss: 1.2096\n",
      "Epoch 284/300\n",
      "1/1 [==============================] - 0s 33ms/step - loss: 1.2628 - val_loss: 1.2093\n",
      "Epoch 285/300\n",
      "1/1 [==============================] - 0s 30ms/step - loss: 1.2625 - val_loss: 1.2091\n",
      "Epoch 286/300\n",
      "1/1 [==============================] - 0s 31ms/step - loss: 1.2622 - val_loss: 1.2088\n",
      "Epoch 287/300\n",
      "1/1 [==============================] - 0s 32ms/step - loss: 1.2618 - val_loss: 1.2085\n",
      "Epoch 288/300\n",
      "1/1 [==============================] - 0s 32ms/step - loss: 1.2615 - val_loss: 1.2083\n",
      "Epoch 289/300\n",
      "1/1 [==============================] - 0s 32ms/step - loss: 1.2612 - val_loss: 1.2080\n",
      "Epoch 290/300\n",
      "1/1 [==============================] - 0s 33ms/step - loss: 1.2609 - val_loss: 1.2077\n",
      "Epoch 291/300\n",
      "1/1 [==============================] - 0s 41ms/step - loss: 1.2606 - val_loss: 1.2074\n",
      "Epoch 292/300\n",
      "1/1 [==============================] - 0s 31ms/step - loss: 1.2603 - val_loss: 1.2072\n",
      "Epoch 293/300\n",
      "1/1 [==============================] - 0s 30ms/step - loss: 1.2599 - val_loss: 1.2069\n",
      "Epoch 294/300\n",
      "1/1 [==============================] - 0s 32ms/step - loss: 1.2596 - val_loss: 1.2066\n",
      "Epoch 295/300\n",
      "1/1 [==============================] - 0s 32ms/step - loss: 1.2593 - val_loss: 1.2064\n",
      "Epoch 296/300\n",
      "1/1 [==============================] - 0s 32ms/step - loss: 1.2590 - val_loss: 1.2061\n",
      "Epoch 297/300\n",
      "1/1 [==============================] - 0s 33ms/step - loss: 1.2587 - val_loss: 1.2059\n",
      "Epoch 298/300\n",
      "1/1 [==============================] - 0s 31ms/step - loss: 1.2583 - val_loss: 1.2056\n",
      "Epoch 299/300\n",
      "1/1 [==============================] - 0s 30ms/step - loss: 1.2580 - val_loss: 1.2054\n",
      "Epoch 300/300\n",
      "1/1 [==============================] - 0s 32ms/step - loss: 1.2577 - val_loss: 1.2051\n"
     ]
    },
    {
     "data": {
      "text/plain": [
       "<keras.src.callbacks.History at 0x2729fa5aed0>"
      ]
     },
     "execution_count": 231,
     "metadata": {},
     "output_type": "execute_result"
    }
   ],
   "source": [
    "model.fit(x=x_train,y=y_train,validation_data=(x_test,y_test),batch_size=250,epochs=300 )   "
   ]
  },
  {
   "cell_type": "code",
   "execution_count": 232,
   "id": "271eb2a4",
   "metadata": {},
   "outputs": [],
   "source": [
    "loss=model.history.history[\"loss\"]"
   ]
  },
  {
   "cell_type": "code",
   "execution_count": 233,
   "id": "12cea646",
   "metadata": {},
   "outputs": [
    {
     "data": {
      "text/plain": [
       "<Axes: >"
      ]
     },
     "execution_count": 233,
     "metadata": {},
     "output_type": "execute_result"
    },
    {
     "data": {
      "image/png": "[encoded data removed]",
      "text/plain": [
       "<Figure size 640x480 with 1 Axes>"
      ]
     },
     "metadata": {},
     "output_type": "display_data"
    }
   ],
   "source": [
    "sbn.lineplot(x=range(len(loss)),y=loss)"
   ]
  },
  {
   "cell_type": "code",
   "execution_count": 234,
   "id": "f3030ab7",
   "metadata": {},
   "outputs": [],
   "source": [
    "trainloss=model.evaluate(x_train,y_train,verbose=0)#modelin kendi kendine analizini yapar\n",
    "testloss=model.evaluate(x_test,y_test,verbose=0)"
   ]
  },
  {
   "cell_type": "code",
   "execution_count": 235,
   "id": "b6f9303e",
   "metadata": {},
   "outputs": [
    {
     "data": {
      "text/plain": [
       "1.2573878765106201"
      ]
     },
     "execution_count": 235,
     "metadata": {},
     "output_type": "execute_result"
    }
   ],
   "source": [
    "trainloss#loss"
   ]
  },
  {
   "cell_type": "code",
   "execution_count": 236,
   "id": "c129f88b",
   "metadata": {},
   "outputs": [
    {
     "data": {
      "text/plain": [
       "1.2050933837890625"
      ]
     },
     "execution_count": 236,
     "metadata": {},
     "output_type": "execute_result"
    }
   ],
   "source": [
    "testloss#val_los"
   ]
  },
  {
   "cell_type": "code",
   "execution_count": null,
   "id": "275b94aa",
   "metadata": {},
   "outputs": [],
   "source": []
  },
  {
   "cell_type": "code",
   "execution_count": 237,
   "id": "65b3d393",
   "metadata": {},
   "outputs": [],
   "source": [
    "kayipveri=pd.DataFrame(model.history.history)"
   ]
  },
  {
   "cell_type": "code",
   "execution_count": 238,
   "id": "dfb500e0",
   "metadata": {},
   "outputs": [
    {
     "data": {
      "text/html": [
       "<div>\n",
       "<style scoped>\n",
       "    .dataframe tbody tr th:only-of-type {\n",
       "        vertical-align: middle;\n",
       "    }\n",
       "\n",
       "    .dataframe tbody tr th {\n",
       "        vertical-align: top;\n",
       "    }\n",
       "\n",
       "    .dataframe thead th {\n",
       "        text-align: right;\n",
       "    }\n",
       "</style>\n",
       "<table border=\"1\" class=\"dataframe\">\n",
       "  <thead>\n",
       "    <tr style=\"text-align: right;\">\n",
       "      <th></th>\n",
       "    </tr>\n",
       "  </thead>\n",
       "  <tbody>\n",
       "  </tbody>\n",
       "</table>\n",
       "</div>"
      ],
      "text/plain": [
       "Empty DataFrame\n",
       "Columns: []\n",
       "Index: []"
      ]
     },
     "execution_count": 238,
     "metadata": {},
     "output_type": "execute_result"
    }
   ],
   "source": [
    "kayipveri.head()"
   ]
  },
  {
   "cell_type": "code",
   "execution_count": 206,
   "id": "58ab682c",
   "metadata": {
    "scrolled": true
   },
   "outputs": [
    {
     "ename": "TypeError",
     "evalue": "no numeric data to plot",
     "output_type": "error",
     "traceback": [
      "\u001b[1;31m---------------------------------------------------------------------------\u001b[0m",
      "\u001b[1;31mTypeError\u001b[0m                                 Traceback (most recent call last)",
      "Cell \u001b[1;32mIn[206], line 1\u001b[0m\n\u001b[1;32m----> 1\u001b[0m kayipveri\u001b[38;5;241m.\u001b[39mplot()\n",
      "File \u001b[1;32mC:\\ProgramData\\anaconda3\\Lib\\site-packages\\pandas\\plotting\\_core.py:1000\u001b[0m, in \u001b[0;36mPlotAccessor.__call__\u001b[1;34m(self, *args, **kwargs)\u001b[0m\n\u001b[0;32m    997\u001b[0m             label_name \u001b[38;5;241m=\u001b[39m label_kw \u001b[38;5;129;01mor\u001b[39;00m data\u001b[38;5;241m.\u001b[39mcolumns\n\u001b[0;32m    998\u001b[0m             data\u001b[38;5;241m.\u001b[39mcolumns \u001b[38;5;241m=\u001b[39m label_name\n\u001b[1;32m-> 1000\u001b[0m \u001b[38;5;28;01mreturn\u001b[39;00m plot_backend\u001b[38;5;241m.\u001b[39mplot(data, kind\u001b[38;5;241m=\u001b[39mkind, \u001b[38;5;241m*\u001b[39m\u001b[38;5;241m*\u001b[39mkwargs)\n",
      "File \u001b[1;32mC:\\ProgramData\\anaconda3\\Lib\\site-packages\\pandas\\plotting\\_matplotlib\\__init__.py:71\u001b[0m, in \u001b[0;36mplot\u001b[1;34m(data, kind, **kwargs)\u001b[0m\n\u001b[0;32m     69\u001b[0m         kwargs[\u001b[38;5;124m\"\u001b[39m\u001b[38;5;124max\u001b[39m\u001b[38;5;124m\"\u001b[39m] \u001b[38;5;241m=\u001b[39m \u001b[38;5;28mgetattr\u001b[39m(ax, \u001b[38;5;124m\"\u001b[39m\u001b[38;5;124mleft_ax\u001b[39m\u001b[38;5;124m\"\u001b[39m, ax)\n\u001b[0;32m     70\u001b[0m plot_obj \u001b[38;5;241m=\u001b[39m PLOT_CLASSES[kind](data, \u001b[38;5;241m*\u001b[39m\u001b[38;5;241m*\u001b[39mkwargs)\n\u001b[1;32m---> 71\u001b[0m plot_obj\u001b[38;5;241m.\u001b[39mgenerate()\n\u001b[0;32m     72\u001b[0m plot_obj\u001b[38;5;241m.\u001b[39mdraw()\n\u001b[0;32m     73\u001b[0m \u001b[38;5;28;01mreturn\u001b[39;00m plot_obj\u001b[38;5;241m.\u001b[39mresult\n",
      "File \u001b[1;32mC:\\ProgramData\\anaconda3\\Lib\\site-packages\\pandas\\plotting\\_matplotlib\\core.py:450\u001b[0m, in \u001b[0;36mMPLPlot.generate\u001b[1;34m(self)\u001b[0m\n\u001b[0;32m    448\u001b[0m \u001b[38;5;28;01mdef\u001b[39;00m \u001b[38;5;21mgenerate\u001b[39m(\u001b[38;5;28mself\u001b[39m) \u001b[38;5;241m-\u001b[39m\u001b[38;5;241m>\u001b[39m \u001b[38;5;28;01mNone\u001b[39;00m:\n\u001b[0;32m    449\u001b[0m     \u001b[38;5;28mself\u001b[39m\u001b[38;5;241m.\u001b[39m_args_adjust()\n\u001b[1;32m--> 450\u001b[0m     \u001b[38;5;28mself\u001b[39m\u001b[38;5;241m.\u001b[39m_compute_plot_data()\n\u001b[0;32m    451\u001b[0m     \u001b[38;5;28mself\u001b[39m\u001b[38;5;241m.\u001b[39m_setup_subplots()\n\u001b[0;32m    452\u001b[0m     \u001b[38;5;28mself\u001b[39m\u001b[38;5;241m.\u001b[39m_make_plot()\n",
      "File \u001b[1;32mC:\\ProgramData\\anaconda3\\Lib\\site-packages\\pandas\\plotting\\_matplotlib\\core.py:635\u001b[0m, in \u001b[0;36mMPLPlot._compute_plot_data\u001b[1;34m(self)\u001b[0m\n\u001b[0;32m    633\u001b[0m \u001b[38;5;66;03m# no non-numeric frames or series allowed\u001b[39;00m\n\u001b[0;32m    634\u001b[0m \u001b[38;5;28;01mif\u001b[39;00m is_empty:\n\u001b[1;32m--> 635\u001b[0m     \u001b[38;5;28;01mraise\u001b[39;00m \u001b[38;5;167;01mTypeError\u001b[39;00m(\u001b[38;5;124m\"\u001b[39m\u001b[38;5;124mno numeric data to plot\u001b[39m\u001b[38;5;124m\"\u001b[39m)\n\u001b[0;32m    637\u001b[0m \u001b[38;5;28mself\u001b[39m\u001b[38;5;241m.\u001b[39mdata \u001b[38;5;241m=\u001b[39m numeric_data\u001b[38;5;241m.\u001b[39mapply(\u001b[38;5;28mself\u001b[39m\u001b[38;5;241m.\u001b[39m_convert_to_ndarray)\n",
      "\u001b[1;31mTypeError\u001b[0m: no numeric data to plot"
     ]
    }
   ],
   "source": [
    "kayipveri.plot()"
   ]
  },
  {
   "cell_type": "code",
   "execution_count": null,
   "id": "d3cc72ce",
   "metadata": {},
   "outputs": [],
   "source": []
  }
 ],
 "metadata": {
  "kernelspec": {
   "display_name": "Python 3 (ipykernel)",
   "language": "python",
   "name": "python3"
  },
  "language_info": {
   "codemirror_mode": {
    "name": "ipython",
    "version": 3
   },
   "file_extension": ".py",
   "mimetype": "text/x-python",
   "name": "python",
   "nbconvert_exporter": "python",
   "pygments_lexer": "ipython3",
   "version": "3.11.3"
  }
 },
 "nbformat": 4,
 "nbformat_minor": 5
}
